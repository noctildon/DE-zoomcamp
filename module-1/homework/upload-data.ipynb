{
 "cells": [
  {
   "cell_type": "code",
   "execution_count": 2,
   "metadata": {},
   "outputs": [],
   "source": [
    "import pandas as pd"
   ]
  },
  {
   "cell_type": "code",
   "execution_count": 4,
   "metadata": {},
   "outputs": [
    {
     "name": "stdout",
     "output_type": "stream",
     "text": [
      "<class 'pandas.core.frame.DataFrame'>\n",
      "RangeIndex: 20 entries, 0 to 19\n",
      "Data columns (total 20 columns):\n",
      " #   Column                 Non-Null Count  Dtype  \n",
      "---  ------                 --------------  -----  \n",
      " 0   VendorID               20 non-null     int64  \n",
      " 1   lpep_pickup_datetime   20 non-null     object \n",
      " 2   lpep_dropoff_datetime  20 non-null     object \n",
      " 3   store_and_fwd_flag     20 non-null     object \n",
      " 4   RatecodeID             20 non-null     int64  \n",
      " 5   PULocationID           20 non-null     int64  \n",
      " 6   DOLocationID           20 non-null     int64  \n",
      " 7   passenger_count        20 non-null     int64  \n",
      " 8   trip_distance          20 non-null     float64\n",
      " 9   fare_amount            20 non-null     float64\n",
      " 10  extra                  20 non-null     float64\n",
      " 11  mta_tax                20 non-null     float64\n",
      " 12  tip_amount             20 non-null     float64\n",
      " 13  tolls_amount           20 non-null     float64\n",
      " 14  ehail_fee              0 non-null      float64\n",
      " 15  improvement_surcharge  20 non-null     float64\n",
      " 16  total_amount           20 non-null     float64\n",
      " 17  payment_type           20 non-null     int64  \n",
      " 18  trip_type              20 non-null     int64  \n",
      " 19  congestion_surcharge   20 non-null     float64\n",
      "dtypes: float64(10), int64(7), object(3)\n",
      "memory usage: 3.2+ KB\n"
     ]
    }
   ],
   "source": [
    "df = pd.read_csv('green_tripdata_2019-09.csv.gz', nrows=20)\n",
    "df.info()"
   ]
  }
 ],
 "metadata": {
  "kernelspec": {
   "display_name": "Python 3",
   "language": "python",
   "name": "python3"
  },
  "language_info": {
   "codemirror_mode": {
    "name": "ipython",
    "version": 3
   },
   "file_extension": ".py",
   "mimetype": "text/x-python",
   "name": "python",
   "nbconvert_exporter": "python",
   "pygments_lexer": "ipython3",
   "version": "3.10.12"
  }
 },
 "nbformat": 4,
 "nbformat_minor": 2
}
